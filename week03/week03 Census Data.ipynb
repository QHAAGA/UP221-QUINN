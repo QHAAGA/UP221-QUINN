{
 "cells": [
  {
   "cell_type": "markdown",
   "id": "d5aeea8e-8095-4bc1-8966-8c44e15e3b81",
   "metadata": {},
   "source": [
    "Today I will be looking at census data from SF. I am specifically looking at data related to health insurance. \n",
    "\n",
    "To start, I will import pandas and geopandas for the exercise and import the csv file containing the census data."
   ]
  },
  {
   "cell_type": "code",
   "execution_count": 2,
   "id": "32b81fbd-d675-410e-a475-0a062e8e428f",
   "metadata": {},
   "outputs": [],
   "source": [
    "import pandas as pd\n",
    "import geopandas as gpd"
   ]
  },
  {
   "cell_type": "code",
   "execution_count": 4,
   "id": "ce715e06-9be0-4120-be30-d697d606e6a8",
   "metadata": {},
   "outputs": [],
   "source": [
    "df = pd.read_csv('week03 data/R13284846_SL140.csv')"
   ]
  },
  {
   "cell_type": "markdown",
   "id": "fa9f31b8-b828-4553-9044-020e20222f9d",
   "metadata": {},
   "source": [
    "## PRELIMINARY DATA INSPECTION ##"
   ]
  },
  {
   "cell_type": "markdown",
   "id": "ec170e12-91d0-430c-9ebc-effe8c7455b4",
   "metadata": {},
   "source": [
    "I will run a few commands to become more familiar with the data set."
   ]
  },
  {
   "cell_type": "code",
   "execution_count": 6,
   "id": "e74564ba-9f7a-41c6-bdf2-ede5d15d8190",
   "metadata": {},
   "outputs": [
    {
     "data": {
      "text/plain": [
       "(244, 109)"
      ]
     },
     "execution_count": 6,
     "metadata": {},
     "output_type": "execute_result"
    }
   ],
   "source": [
    "df.shape"
   ]
  },
  {
   "cell_type": "code",
   "execution_count": 7,
   "id": "82599dbe-1e7e-4669-89bb-1ca44e3991b1",
   "metadata": {},
   "outputs": [
    {
     "data": {
      "text/html": [
       "<div>\n",
       "<style scoped>\n",
       "    .dataframe tbody tr th:only-of-type {\n",
       "        vertical-align: middle;\n",
       "    }\n",
       "\n",
       "    .dataframe tbody tr th {\n",
       "        vertical-align: top;\n",
       "    }\n",
       "\n",
       "    .dataframe thead th {\n",
       "        text-align: right;\n",
       "    }\n",
       "</style>\n",
       "<table border=\"1\" class=\"dataframe\">\n",
       "  <thead>\n",
       "    <tr style=\"text-align: right;\">\n",
       "      <th></th>\n",
       "      <th>Geo_FIPS</th>\n",
       "      <th>Geo_QName</th>\n",
       "      <th>Geo_FILEID</th>\n",
       "      <th>Geo_STUSAB</th>\n",
       "      <th>Geo_SUMLEV</th>\n",
       "      <th>Geo_GEOCOMP</th>\n",
       "      <th>Geo_LOGRECNO</th>\n",
       "      <th>Geo_US</th>\n",
       "      <th>Geo_REGION</th>\n",
       "      <th>Geo_DIVISION</th>\n",
       "      <th>...</th>\n",
       "      <th>PCT_SE_A20002_015</th>\n",
       "      <th>PCT_SE_A20002_016</th>\n",
       "      <th>PCT_SE_A20002_018</th>\n",
       "      <th>PCT_SE_A20002_019</th>\n",
       "      <th>PCT_SE_A20002_020</th>\n",
       "      <th>PCT_SE_A20002_021</th>\n",
       "      <th>PCT_SE_A20002_023</th>\n",
       "      <th>PCT_SE_A20002_024</th>\n",
       "      <th>PCT_SE_A20002_025</th>\n",
       "      <th>PCT_SE_A20002_026</th>\n",
       "    </tr>\n",
       "  </thead>\n",
       "  <tbody>\n",
       "    <tr>\n",
       "      <th>0</th>\n",
       "      <td>6075010101</td>\n",
       "      <td>Census Tract 101.01, San Francisco County, Cal...</td>\n",
       "      <td>ACSSF</td>\n",
       "      <td>ca</td>\n",
       "      <td>140</td>\n",
       "      <td>0</td>\n",
       "      <td>9875</td>\n",
       "      <td>NaN</td>\n",
       "      <td>NaN</td>\n",
       "      <td>NaN</td>\n",
       "      <td>...</td>\n",
       "      <td>3.99</td>\n",
       "      <td>96.01</td>\n",
       "      <td>6.06</td>\n",
       "      <td>93.94</td>\n",
       "      <td>4.64</td>\n",
       "      <td>89.30</td>\n",
       "      <td>0.0</td>\n",
       "      <td>100.0</td>\n",
       "      <td>100.00</td>\n",
       "      <td>24.45</td>\n",
       "    </tr>\n",
       "    <tr>\n",
       "      <th>1</th>\n",
       "      <td>6075010102</td>\n",
       "      <td>Census Tract 101.02, San Francisco County, Cal...</td>\n",
       "      <td>ACSSF</td>\n",
       "      <td>ca</td>\n",
       "      <td>140</td>\n",
       "      <td>0</td>\n",
       "      <td>9876</td>\n",
       "      <td>NaN</td>\n",
       "      <td>NaN</td>\n",
       "      <td>NaN</td>\n",
       "      <td>...</td>\n",
       "      <td>14.71</td>\n",
       "      <td>85.29</td>\n",
       "      <td>0.00</td>\n",
       "      <td>100.00</td>\n",
       "      <td>36.85</td>\n",
       "      <td>63.15</td>\n",
       "      <td>0.0</td>\n",
       "      <td>100.0</td>\n",
       "      <td>100.00</td>\n",
       "      <td>41.09</td>\n",
       "    </tr>\n",
       "    <tr>\n",
       "      <th>2</th>\n",
       "      <td>6075010201</td>\n",
       "      <td>Census Tract 102.01, San Francisco County, Cal...</td>\n",
       "      <td>ACSSF</td>\n",
       "      <td>ca</td>\n",
       "      <td>140</td>\n",
       "      <td>0</td>\n",
       "      <td>9877</td>\n",
       "      <td>NaN</td>\n",
       "      <td>NaN</td>\n",
       "      <td>NaN</td>\n",
       "      <td>...</td>\n",
       "      <td>0.00</td>\n",
       "      <td>100.00</td>\n",
       "      <td>1.86</td>\n",
       "      <td>98.14</td>\n",
       "      <td>0.00</td>\n",
       "      <td>98.14</td>\n",
       "      <td>0.0</td>\n",
       "      <td>100.0</td>\n",
       "      <td>97.53</td>\n",
       "      <td>77.57</td>\n",
       "    </tr>\n",
       "    <tr>\n",
       "      <th>3</th>\n",
       "      <td>6075010202</td>\n",
       "      <td>Census Tract 102.02, San Francisco County, Cal...</td>\n",
       "      <td>ACSSF</td>\n",
       "      <td>ca</td>\n",
       "      <td>140</td>\n",
       "      <td>0</td>\n",
       "      <td>9878</td>\n",
       "      <td>NaN</td>\n",
       "      <td>NaN</td>\n",
       "      <td>NaN</td>\n",
       "      <td>...</td>\n",
       "      <td>3.27</td>\n",
       "      <td>100.00</td>\n",
       "      <td>0.00</td>\n",
       "      <td>100.00</td>\n",
       "      <td>5.80</td>\n",
       "      <td>95.52</td>\n",
       "      <td>0.0</td>\n",
       "      <td>100.0</td>\n",
       "      <td>100.00</td>\n",
       "      <td>49.27</td>\n",
       "    </tr>\n",
       "    <tr>\n",
       "      <th>4</th>\n",
       "      <td>6075010300</td>\n",
       "      <td>Census Tract 103, San Francisco County, Califo...</td>\n",
       "      <td>ACSSF</td>\n",
       "      <td>ca</td>\n",
       "      <td>140</td>\n",
       "      <td>0</td>\n",
       "      <td>9879</td>\n",
       "      <td>NaN</td>\n",
       "      <td>NaN</td>\n",
       "      <td>NaN</td>\n",
       "      <td>...</td>\n",
       "      <td>0.00</td>\n",
       "      <td>96.06</td>\n",
       "      <td>0.00</td>\n",
       "      <td>100.00</td>\n",
       "      <td>6.18</td>\n",
       "      <td>95.02</td>\n",
       "      <td>0.0</td>\n",
       "      <td>100.0</td>\n",
       "      <td>100.00</td>\n",
       "      <td>42.43</td>\n",
       "    </tr>\n",
       "  </tbody>\n",
       "</table>\n",
       "<p>5 rows × 109 columns</p>\n",
       "</div>"
      ],
      "text/plain": [
       "     Geo_FIPS                                          Geo_QName Geo_FILEID  \\\n",
       "0  6075010101  Census Tract 101.01, San Francisco County, Cal...      ACSSF   \n",
       "1  6075010102  Census Tract 101.02, San Francisco County, Cal...      ACSSF   \n",
       "2  6075010201  Census Tract 102.01, San Francisco County, Cal...      ACSSF   \n",
       "3  6075010202  Census Tract 102.02, San Francisco County, Cal...      ACSSF   \n",
       "4  6075010300  Census Tract 103, San Francisco County, Califo...      ACSSF   \n",
       "\n",
       "  Geo_STUSAB  Geo_SUMLEV  Geo_GEOCOMP  Geo_LOGRECNO  Geo_US  Geo_REGION  \\\n",
       "0         ca         140            0          9875     NaN         NaN   \n",
       "1         ca         140            0          9876     NaN         NaN   \n",
       "2         ca         140            0          9877     NaN         NaN   \n",
       "3         ca         140            0          9878     NaN         NaN   \n",
       "4         ca         140            0          9879     NaN         NaN   \n",
       "\n",
       "   Geo_DIVISION  ...  PCT_SE_A20002_015  PCT_SE_A20002_016  PCT_SE_A20002_018  \\\n",
       "0           NaN  ...               3.99              96.01               6.06   \n",
       "1           NaN  ...              14.71              85.29               0.00   \n",
       "2           NaN  ...               0.00             100.00               1.86   \n",
       "3           NaN  ...               3.27             100.00               0.00   \n",
       "4           NaN  ...               0.00              96.06               0.00   \n",
       "\n",
       "   PCT_SE_A20002_019  PCT_SE_A20002_020  PCT_SE_A20002_021  PCT_SE_A20002_023  \\\n",
       "0              93.94               4.64              89.30                0.0   \n",
       "1             100.00              36.85              63.15                0.0   \n",
       "2              98.14               0.00              98.14                0.0   \n",
       "3             100.00               5.80              95.52                0.0   \n",
       "4             100.00               6.18              95.02                0.0   \n",
       "\n",
       "   PCT_SE_A20002_024  PCT_SE_A20002_025  PCT_SE_A20002_026  \n",
       "0              100.0             100.00              24.45  \n",
       "1              100.0             100.00              41.09  \n",
       "2              100.0              97.53              77.57  \n",
       "3              100.0             100.00              49.27  \n",
       "4              100.0             100.00              42.43  \n",
       "\n",
       "[5 rows x 109 columns]"
      ]
     },
     "execution_count": 7,
     "metadata": {},
     "output_type": "execute_result"
    }
   ],
   "source": [
    "df.head()"
   ]
  },
  {
   "cell_type": "markdown",
   "id": "b121e924-2e4d-4bbb-b90d-3d1eb60280d5",
   "metadata": {},
   "source": [
    "I am now going to explore the Geo FIPS column because this is the column that contains the census tract information. I will check to make sure the tracts all have leading zeros, and if not, I will remedy that."
   ]
  },
  {
   "cell_type": "code",
   "execution_count": 8,
   "id": "477029c0-4fbc-4b74-88e9-008992cafbee",
   "metadata": {
    "collapsed": true,
    "jupyter": {
     "outputs_hidden": true
    },
    "tags": []
   },
   "outputs": [
    {
     "name": "stdout",
     "output_type": "stream",
     "text": [
      "<class 'pandas.core.frame.DataFrame'>\n",
      "RangeIndex: 244 entries, 0 to 243\n",
      "Data columns (total 109 columns):\n",
      " #    Column             Non-Null Count  Dtype  \n",
      "---   ------             --------------  -----  \n",
      " 0    Geo_FIPS           244 non-null    int64  \n",
      " 1    Geo_QName          244 non-null    object \n",
      " 2    Geo_FILEID         244 non-null    object \n",
      " 3    Geo_STUSAB         244 non-null    object \n",
      " 4    Geo_SUMLEV         244 non-null    int64  \n",
      " 5    Geo_GEOCOMP        244 non-null    int64  \n",
      " 6    Geo_LOGRECNO       244 non-null    int64  \n",
      " 7    Geo_US             0 non-null      float64\n",
      " 8    Geo_REGION         0 non-null      float64\n",
      " 9    Geo_DIVISION       0 non-null      float64\n",
      " 10   Geo_STATECE        0 non-null      float64\n",
      " 11   Geo_STATE          244 non-null    int64  \n",
      " 12   Geo_COUNTY         244 non-null    int64  \n",
      " 13   Geo_COUSUB         0 non-null      float64\n",
      " 14   Geo_PLACE          0 non-null      float64\n",
      " 15   Geo_TRACT          244 non-null    int64  \n",
      " 16   Geo_BLKGRP         0 non-null      float64\n",
      " 17   Geo_CONCIT         0 non-null      float64\n",
      " 18   Geo_AIANHH         0 non-null      float64\n",
      " 19   Geo_AIANHHFP       0 non-null      float64\n",
      " 20   Geo_AIHHTLI        0 non-null      float64\n",
      " 21   Geo_AITSCE         0 non-null      float64\n",
      " 22   Geo_AITS           0 non-null      float64\n",
      " 23   Geo_ANRC           0 non-null      float64\n",
      " 24   Geo_CBSA           0 non-null      float64\n",
      " 25   Geo_CSA            0 non-null      float64\n",
      " 26   Geo_METDIV         0 non-null      float64\n",
      " 27   Geo_MACC           0 non-null      float64\n",
      " 28   Geo_MEMI           0 non-null      float64\n",
      " 29   Geo_NECTA          0 non-null      float64\n",
      " 30   Geo_CNECTA         0 non-null      float64\n",
      " 31   Geo_NECTADIV       0 non-null      float64\n",
      " 32   Geo_UA             0 non-null      float64\n",
      " 33   Geo_UACP           0 non-null      float64\n",
      " 34   Geo_CDCURR         0 non-null      float64\n",
      " 35   Geo_SLDU           0 non-null      float64\n",
      " 36   Geo_SLDL           0 non-null      float64\n",
      " 37   Geo_VTD            0 non-null      float64\n",
      " 38   Geo_ZCTA3          0 non-null      float64\n",
      " 39   Geo_ZCTA5          0 non-null      float64\n",
      " 40   Geo_SUBMCD         0 non-null      float64\n",
      " 41   Geo_SDELM          0 non-null      float64\n",
      " 42   Geo_SDSEC          0 non-null      float64\n",
      " 43   Geo_SDUNI          0 non-null      float64\n",
      " 44   Geo_UR             0 non-null      float64\n",
      " 45   Geo_PCI            0 non-null      float64\n",
      " 46   Geo_TAZ            0 non-null      float64\n",
      " 47   Geo_UGA            0 non-null      float64\n",
      " 48   Geo_PUMA5          0 non-null      float64\n",
      " 49   Geo_PUMA1          0 non-null      float64\n",
      " 50   Geo_GEOID          244 non-null    object \n",
      " 51   Geo_NAME           244 non-null    object \n",
      " 52   Geo_BTTR           0 non-null      float64\n",
      " 53   Geo_BTBG           0 non-null      float64\n",
      " 54   Geo_PLACESE        0 non-null      float64\n",
      " 55   SE_A20001_001      244 non-null    int64  \n",
      " 56   SE_A20001_002      244 non-null    int64  \n",
      " 57   SE_A20001_003      244 non-null    int64  \n",
      " 58   SE_A20001_004      244 non-null    int64  \n",
      " 59   SE_A20001_005      244 non-null    int64  \n",
      " 60   PCT_SE_A20001_002  240 non-null    float64\n",
      " 61   PCT_SE_A20001_003  240 non-null    float64\n",
      " 62   PCT_SE_A20001_004  240 non-null    float64\n",
      " 63   PCT_SE_A20001_005  240 non-null    float64\n",
      " 64   SE_A20002_002      244 non-null    int64  \n",
      " 65   SE_A20002_003      244 non-null    int64  \n",
      " 66   SE_A20002_004      244 non-null    int64  \n",
      " 67   SE_A20002_005      244 non-null    int64  \n",
      " 68   SE_A20002_006      244 non-null    int64  \n",
      " 69   SE_A20002_007      244 non-null    int64  \n",
      " 70   SE_A20002_008      244 non-null    int64  \n",
      " 71   SE_A20002_009      244 non-null    int64  \n",
      " 72   SE_A20002_010      244 non-null    int64  \n",
      " 73   SE_A20002_011      244 non-null    int64  \n",
      " 74   SE_A20002_012      244 non-null    int64  \n",
      " 75   SE_A20002_013      244 non-null    int64  \n",
      " 76   SE_A20002_014      244 non-null    int64  \n",
      " 77   SE_A20002_015      244 non-null    int64  \n",
      " 78   SE_A20002_016      244 non-null    int64  \n",
      " 79   SE_A20002_017      244 non-null    int64  \n",
      " 80   SE_A20002_018      244 non-null    int64  \n",
      " 81   SE_A20002_019      244 non-null    int64  \n",
      " 82   SE_A20002_020      244 non-null    int64  \n",
      " 83   SE_A20002_021      244 non-null    int64  \n",
      " 84   SE_A20002_022      244 non-null    int64  \n",
      " 85   SE_A20002_023      244 non-null    int64  \n",
      " 86   SE_A20002_024      244 non-null    int64  \n",
      " 87   SE_A20002_025      244 non-null    int64  \n",
      " 88   SE_A20002_026      244 non-null    int64  \n",
      " 89   PCT_SE_A20002_003  236 non-null    float64\n",
      " 90   PCT_SE_A20002_004  236 non-null    float64\n",
      " 91   PCT_SE_A20002_005  236 non-null    float64\n",
      " 92   PCT_SE_A20002_006  236 non-null    float64\n",
      " 93   PCT_SE_A20002_008  235 non-null    float64\n",
      " 94   PCT_SE_A20002_009  235 non-null    float64\n",
      " 95   PCT_SE_A20002_010  235 non-null    float64\n",
      " 96   PCT_SE_A20002_011  235 non-null    float64\n",
      " 97   PCT_SE_A20002_013  239 non-null    float64\n",
      " 98   PCT_SE_A20002_014  239 non-null    float64\n",
      " 99   PCT_SE_A20002_015  239 non-null    float64\n",
      " 100  PCT_SE_A20002_016  239 non-null    float64\n",
      " 101  PCT_SE_A20002_018  239 non-null    float64\n",
      " 102  PCT_SE_A20002_019  239 non-null    float64\n",
      " 103  PCT_SE_A20002_020  239 non-null    float64\n",
      " 104  PCT_SE_A20002_021  239 non-null    float64\n",
      " 105  PCT_SE_A20002_023  238 non-null    float64\n",
      " 106  PCT_SE_A20002_024  238 non-null    float64\n",
      " 107  PCT_SE_A20002_025  238 non-null    float64\n",
      " 108  PCT_SE_A20002_026  238 non-null    float64\n",
      "dtypes: float64(67), int64(37), object(5)\n",
      "memory usage: 207.9+ KB\n"
     ]
    }
   ],
   "source": [
    "df.info(verbose=True, show_counts=True)"
   ]
  },
  {
   "cell_type": "code",
   "execution_count": 9,
   "id": "1248eaa6-6160-472c-9ff5-33dbe267c7ba",
   "metadata": {},
   "outputs": [
    {
     "data": {
      "text/plain": [
       "0    6075010101\n",
       "1    6075010102\n",
       "2    6075010201\n",
       "3    6075010202\n",
       "4    6075010300\n",
       "Name: Geo_FIPS, dtype: int64"
      ]
     },
     "execution_count": 9,
     "metadata": {},
     "output_type": "execute_result"
    }
   ],
   "source": [
    "df.Geo_FIPS.head()"
   ]
  },
  {
   "cell_type": "markdown",
   "id": "2aa9410f-e443-4177-ac06-f54ae2787779",
   "metadata": {},
   "source": [
    "This data set does not include leading zeros, and in order for Python to know that these are census tracts, I will need to fix/include the leading zeros."
   ]
  },
  {
   "cell_type": "code",
   "execution_count": 10,
   "id": "09623e9e-12e6-42f2-9026-81956f91b259",
   "metadata": {},
   "outputs": [],
   "source": [
    "df = pd.read_csv(\n",
    "    'week03 data/R13284846_SL140.csv',\n",
    "    dtype=\n",
    "    {\n",
    "        'Geo_FIPS':str,\n",
    "        'Geo_STATE':str,\n",
    "        'Geo_COUNTY': str\n",
    "    }\n",
    ")"
   ]
  },
  {
   "cell_type": "code",
   "execution_count": 11,
   "id": "40b4b512-6300-4241-abe8-2e0025e2ddc1",
   "metadata": {},
   "outputs": [
    {
     "data": {
      "text/plain": [
       "<bound method NDFrame.head of         Geo_FIPS                                          Geo_QName  \\\n",
       "0    06075010101  Census Tract 101.01, San Francisco County, Cal...   \n",
       "1    06075010102  Census Tract 101.02, San Francisco County, Cal...   \n",
       "2    06075010201  Census Tract 102.01, San Francisco County, Cal...   \n",
       "3    06075010202  Census Tract 102.02, San Francisco County, Cal...   \n",
       "4    06075010300  Census Tract 103, San Francisco County, Califo...   \n",
       "..           ...                                                ...   \n",
       "239  06075980501  Census Tract 9805.01, San Francisco County, Ca...   \n",
       "240  06075980600  Census Tract 9806, San Francisco County, Calif...   \n",
       "241  06075980900  Census Tract 9809, San Francisco County, Calif...   \n",
       "242  06075990100  Census Tract 9901, San Francisco County, Calif...   \n",
       "243  06075990200  Census Tract 9902, San Francisco County, Calif...   \n",
       "\n",
       "    Geo_FILEID Geo_STUSAB  Geo_SUMLEV  Geo_GEOCOMP  Geo_LOGRECNO  Geo_US  \\\n",
       "0        ACSSF         ca         140            0          9875     NaN   \n",
       "1        ACSSF         ca         140            0          9876     NaN   \n",
       "2        ACSSF         ca         140            0          9877     NaN   \n",
       "3        ACSSF         ca         140            0          9878     NaN   \n",
       "4        ACSSF         ca         140            0          9879     NaN   \n",
       "..         ...        ...         ...          ...           ...     ...   \n",
       "239      ACSSF         ca         140            0         10114     NaN   \n",
       "240      ACSSF         ca         140            0         10115     NaN   \n",
       "241      ACSSF         ca         140            0         10116     NaN   \n",
       "242      ACSSF         ca         140            0         10117     NaN   \n",
       "243      ACSSF         ca         140            0         10118     NaN   \n",
       "\n",
       "     Geo_REGION  Geo_DIVISION  ...  PCT_SE_A20002_015 PCT_SE_A20002_016  \\\n",
       "0           NaN           NaN  ...               3.99             96.01   \n",
       "1           NaN           NaN  ...              14.71             85.29   \n",
       "2           NaN           NaN  ...               0.00            100.00   \n",
       "3           NaN           NaN  ...               3.27            100.00   \n",
       "4           NaN           NaN  ...               0.00             96.06   \n",
       "..          ...           ...  ...                ...               ...   \n",
       "239         NaN           NaN  ...                NaN               NaN   \n",
       "240         NaN           NaN  ...              26.50             62.39   \n",
       "241         NaN           NaN  ...              13.33             78.67   \n",
       "242         NaN           NaN  ...                NaN               NaN   \n",
       "243         NaN           NaN  ...                NaN               NaN   \n",
       "\n",
       "    PCT_SE_A20002_018  PCT_SE_A20002_019  PCT_SE_A20002_020  \\\n",
       "0                6.06              93.94               4.64   \n",
       "1                0.00             100.00              36.85   \n",
       "2                1.86              98.14               0.00   \n",
       "3                0.00             100.00               5.80   \n",
       "4                0.00             100.00               6.18   \n",
       "..                ...                ...                ...   \n",
       "239               NaN                NaN                NaN   \n",
       "240              3.06              96.94              17.50   \n",
       "241              5.21              94.79              12.50   \n",
       "242               NaN                NaN                NaN   \n",
       "243               NaN                NaN                NaN   \n",
       "\n",
       "     PCT_SE_A20002_021  PCT_SE_A20002_023  PCT_SE_A20002_024  \\\n",
       "0                89.30                0.0              100.0   \n",
       "1                63.15                0.0              100.0   \n",
       "2                98.14                0.0              100.0   \n",
       "3                95.52                0.0              100.0   \n",
       "4                95.02                0.0              100.0   \n",
       "..                 ...                ...                ...   \n",
       "239                NaN                0.0              100.0   \n",
       "240              80.83                0.0              100.0   \n",
       "241              82.29                0.0              100.0   \n",
       "242                NaN                NaN                NaN   \n",
       "243                NaN                NaN                NaN   \n",
       "\n",
       "     PCT_SE_A20002_025  PCT_SE_A20002_026  \n",
       "0               100.00              24.45  \n",
       "1               100.00              41.09  \n",
       "2                97.53              77.57  \n",
       "3               100.00              49.27  \n",
       "4               100.00              42.43  \n",
       "..                 ...                ...  \n",
       "239             100.00               0.00  \n",
       "240             100.00              40.82  \n",
       "241             100.00               0.00  \n",
       "242                NaN                NaN  \n",
       "243                NaN                NaN  \n",
       "\n",
       "[244 rows x 109 columns]>"
      ]
     },
     "execution_count": 11,
     "metadata": {},
     "output_type": "execute_result"
    }
   ],
   "source": [
    "df.head"
   ]
  },
  {
   "cell_type": "markdown",
   "id": "a71c5250-9aaf-4653-b3c5-56ade4745a30",
   "metadata": {},
   "source": [
    "We can now see the leading zeros in entries 0-4 and 239-243. Yay! I will now confirm that the new data frame has the correct data types."
   ]
  },
  {
   "cell_type": "code",
   "execution_count": 12,
   "id": "d14ec2f2-7f86-4f24-8f8d-1491ef1a404b",
   "metadata": {},
   "outputs": [
    {
     "name": "stdout",
     "output_type": "stream",
     "text": [
      "<class 'pandas.core.frame.DataFrame'>\n",
      "RangeIndex: 244 entries, 0 to 243\n",
      "Data columns (total 109 columns):\n",
      " #    Column             Non-Null Count  Dtype  \n",
      "---   ------             --------------  -----  \n",
      " 0    Geo_FIPS           244 non-null    object \n",
      " 1    Geo_QName          244 non-null    object \n",
      " 2    Geo_FILEID         244 non-null    object \n",
      " 3    Geo_STUSAB         244 non-null    object \n",
      " 4    Geo_SUMLEV         244 non-null    int64  \n",
      " 5    Geo_GEOCOMP        244 non-null    int64  \n",
      " 6    Geo_LOGRECNO       244 non-null    int64  \n",
      " 7    Geo_US             0 non-null      float64\n",
      " 8    Geo_REGION         0 non-null      float64\n",
      " 9    Geo_DIVISION       0 non-null      float64\n",
      " 10   Geo_STATECE        0 non-null      float64\n",
      " 11   Geo_STATE          244 non-null    object \n",
      " 12   Geo_COUNTY         244 non-null    object \n",
      " 13   Geo_COUSUB         0 non-null      float64\n",
      " 14   Geo_PLACE          0 non-null      float64\n",
      " 15   Geo_TRACT          244 non-null    int64  \n",
      " 16   Geo_BLKGRP         0 non-null      float64\n",
      " 17   Geo_CONCIT         0 non-null      float64\n",
      " 18   Geo_AIANHH         0 non-null      float64\n",
      " 19   Geo_AIANHHFP       0 non-null      float64\n",
      " 20   Geo_AIHHTLI        0 non-null      float64\n",
      " 21   Geo_AITSCE         0 non-null      float64\n",
      " 22   Geo_AITS           0 non-null      float64\n",
      " 23   Geo_ANRC           0 non-null      float64\n",
      " 24   Geo_CBSA           0 non-null      float64\n",
      " 25   Geo_CSA            0 non-null      float64\n",
      " 26   Geo_METDIV         0 non-null      float64\n",
      " 27   Geo_MACC           0 non-null      float64\n",
      " 28   Geo_MEMI           0 non-null      float64\n",
      " 29   Geo_NECTA          0 non-null      float64\n",
      " 30   Geo_CNECTA         0 non-null      float64\n",
      " 31   Geo_NECTADIV       0 non-null      float64\n",
      " 32   Geo_UA             0 non-null      float64\n",
      " 33   Geo_UACP           0 non-null      float64\n",
      " 34   Geo_CDCURR         0 non-null      float64\n",
      " 35   Geo_SLDU           0 non-null      float64\n",
      " 36   Geo_SLDL           0 non-null      float64\n",
      " 37   Geo_VTD            0 non-null      float64\n",
      " 38   Geo_ZCTA3          0 non-null      float64\n",
      " 39   Geo_ZCTA5          0 non-null      float64\n",
      " 40   Geo_SUBMCD         0 non-null      float64\n",
      " 41   Geo_SDELM          0 non-null      float64\n",
      " 42   Geo_SDSEC          0 non-null      float64\n",
      " 43   Geo_SDUNI          0 non-null      float64\n",
      " 44   Geo_UR             0 non-null      float64\n",
      " 45   Geo_PCI            0 non-null      float64\n",
      " 46   Geo_TAZ            0 non-null      float64\n",
      " 47   Geo_UGA            0 non-null      float64\n",
      " 48   Geo_PUMA5          0 non-null      float64\n",
      " 49   Geo_PUMA1          0 non-null      float64\n",
      " 50   Geo_GEOID          244 non-null    object \n",
      " 51   Geo_NAME           244 non-null    object \n",
      " 52   Geo_BTTR           0 non-null      float64\n",
      " 53   Geo_BTBG           0 non-null      float64\n",
      " 54   Geo_PLACESE        0 non-null      float64\n",
      " 55   SE_A20001_001      244 non-null    int64  \n",
      " 56   SE_A20001_002      244 non-null    int64  \n",
      " 57   SE_A20001_003      244 non-null    int64  \n",
      " 58   SE_A20001_004      244 non-null    int64  \n",
      " 59   SE_A20001_005      244 non-null    int64  \n",
      " 60   PCT_SE_A20001_002  240 non-null    float64\n",
      " 61   PCT_SE_A20001_003  240 non-null    float64\n",
      " 62   PCT_SE_A20001_004  240 non-null    float64\n",
      " 63   PCT_SE_A20001_005  240 non-null    float64\n",
      " 64   SE_A20002_002      244 non-null    int64  \n",
      " 65   SE_A20002_003      244 non-null    int64  \n",
      " 66   SE_A20002_004      244 non-null    int64  \n",
      " 67   SE_A20002_005      244 non-null    int64  \n",
      " 68   SE_A20002_006      244 non-null    int64  \n",
      " 69   SE_A20002_007      244 non-null    int64  \n",
      " 70   SE_A20002_008      244 non-null    int64  \n",
      " 71   SE_A20002_009      244 non-null    int64  \n",
      " 72   SE_A20002_010      244 non-null    int64  \n",
      " 73   SE_A20002_011      244 non-null    int64  \n",
      " 74   SE_A20002_012      244 non-null    int64  \n",
      " 75   SE_A20002_013      244 non-null    int64  \n",
      " 76   SE_A20002_014      244 non-null    int64  \n",
      " 77   SE_A20002_015      244 non-null    int64  \n",
      " 78   SE_A20002_016      244 non-null    int64  \n",
      " 79   SE_A20002_017      244 non-null    int64  \n",
      " 80   SE_A20002_018      244 non-null    int64  \n",
      " 81   SE_A20002_019      244 non-null    int64  \n",
      " 82   SE_A20002_020      244 non-null    int64  \n",
      " 83   SE_A20002_021      244 non-null    int64  \n",
      " 84   SE_A20002_022      244 non-null    int64  \n",
      " 85   SE_A20002_023      244 non-null    int64  \n",
      " 86   SE_A20002_024      244 non-null    int64  \n",
      " 87   SE_A20002_025      244 non-null    int64  \n",
      " 88   SE_A20002_026      244 non-null    int64  \n",
      " 89   PCT_SE_A20002_003  236 non-null    float64\n",
      " 90   PCT_SE_A20002_004  236 non-null    float64\n",
      " 91   PCT_SE_A20002_005  236 non-null    float64\n",
      " 92   PCT_SE_A20002_006  236 non-null    float64\n",
      " 93   PCT_SE_A20002_008  235 non-null    float64\n",
      " 94   PCT_SE_A20002_009  235 non-null    float64\n",
      " 95   PCT_SE_A20002_010  235 non-null    float64\n",
      " 96   PCT_SE_A20002_011  235 non-null    float64\n",
      " 97   PCT_SE_A20002_013  239 non-null    float64\n",
      " 98   PCT_SE_A20002_014  239 non-null    float64\n",
      " 99   PCT_SE_A20002_015  239 non-null    float64\n",
      " 100  PCT_SE_A20002_016  239 non-null    float64\n",
      " 101  PCT_SE_A20002_018  239 non-null    float64\n",
      " 102  PCT_SE_A20002_019  239 non-null    float64\n",
      " 103  PCT_SE_A20002_020  239 non-null    float64\n",
      " 104  PCT_SE_A20002_021  239 non-null    float64\n",
      " 105  PCT_SE_A20002_023  238 non-null    float64\n",
      " 106  PCT_SE_A20002_024  238 non-null    float64\n",
      " 107  PCT_SE_A20002_025  238 non-null    float64\n",
      " 108  PCT_SE_A20002_026  238 non-null    float64\n",
      "dtypes: float64(67), int64(34), object(8)\n",
      "memory usage: 207.9+ KB\n"
     ]
    }
   ],
   "source": [
    "df.info(verbose=True, show_counts=True)"
   ]
  },
  {
   "cell_type": "markdown",
   "id": "093d3608-1223-4874-97aa-610a613dbb61",
   "metadata": {},
   "source": [
    "## CLEAN DATA ##\n",
    "To find the columns with null data I will run the command isna().all() to find all of the columns with null values. "
   ]
  },
  {
   "cell_type": "code",
   "execution_count": 13,
   "id": "2cf7488b-531a-419a-9082-9990bf249e21",
   "metadata": {},
   "outputs": [
    {
     "data": {
      "text/plain": [
       "['Geo_US',\n",
       " 'Geo_REGION',\n",
       " 'Geo_DIVISION',\n",
       " 'Geo_STATECE',\n",
       " 'Geo_COUSUB',\n",
       " 'Geo_PLACE',\n",
       " 'Geo_BLKGRP',\n",
       " 'Geo_CONCIT',\n",
       " 'Geo_AIANHH',\n",
       " 'Geo_AIANHHFP',\n",
       " 'Geo_AIHHTLI',\n",
       " 'Geo_AITSCE',\n",
       " 'Geo_AITS',\n",
       " 'Geo_ANRC',\n",
       " 'Geo_CBSA',\n",
       " 'Geo_CSA',\n",
       " 'Geo_METDIV',\n",
       " 'Geo_MACC',\n",
       " 'Geo_MEMI',\n",
       " 'Geo_NECTA',\n",
       " 'Geo_CNECTA',\n",
       " 'Geo_NECTADIV',\n",
       " 'Geo_UA',\n",
       " 'Geo_UACP',\n",
       " 'Geo_CDCURR',\n",
       " 'Geo_SLDU',\n",
       " 'Geo_SLDL',\n",
       " 'Geo_VTD',\n",
       " 'Geo_ZCTA3',\n",
       " 'Geo_ZCTA5',\n",
       " 'Geo_SUBMCD',\n",
       " 'Geo_SDELM',\n",
       " 'Geo_SDSEC',\n",
       " 'Geo_SDUNI',\n",
       " 'Geo_UR',\n",
       " 'Geo_PCI',\n",
       " 'Geo_TAZ',\n",
       " 'Geo_UGA',\n",
       " 'Geo_PUMA5',\n",
       " 'Geo_PUMA1',\n",
       " 'Geo_BTTR',\n",
       " 'Geo_BTBG',\n",
       " 'Geo_PLACESE']"
      ]
     },
     "execution_count": 13,
     "metadata": {},
     "output_type": "execute_result"
    }
   ],
   "source": [
    "df.columns[df.isna().all()].tolist()"
   ]
  },
  {
   "cell_type": "markdown",
   "id": "ba1b6e14-6164-44e8-aabd-c25f943f69c8",
   "metadata": {},
   "source": [
    "I am now going to drop these columns becuase they do not contain data. I will use the command .dropna()"
   ]
  },
  {
   "cell_type": "code",
   "execution_count": 15,
   "id": "2b0a2763-06c6-462e-b150-999fa91e7a59",
   "metadata": {},
   "outputs": [],
   "source": [
    "df = df.dropna(axis=1,how=\"all\")"
   ]
  },
  {
   "cell_type": "code",
   "execution_count": 16,
   "id": "af30b2db-820f-4dc1-b369-cebceac26d0b",
   "metadata": {},
   "outputs": [
    {
     "name": "stdout",
     "output_type": "stream",
     "text": [
      "<class 'pandas.core.frame.DataFrame'>\n",
      "RangeIndex: 244 entries, 0 to 243\n",
      "Data columns (total 66 columns):\n",
      " #   Column             Non-Null Count  Dtype  \n",
      "---  ------             --------------  -----  \n",
      " 0   Geo_FIPS           244 non-null    object \n",
      " 1   Geo_QName          244 non-null    object \n",
      " 2   Geo_FILEID         244 non-null    object \n",
      " 3   Geo_STUSAB         244 non-null    object \n",
      " 4   Geo_SUMLEV         244 non-null    int64  \n",
      " 5   Geo_GEOCOMP        244 non-null    int64  \n",
      " 6   Geo_LOGRECNO       244 non-null    int64  \n",
      " 7   Geo_STATE          244 non-null    object \n",
      " 8   Geo_COUNTY         244 non-null    object \n",
      " 9   Geo_TRACT          244 non-null    int64  \n",
      " 10  Geo_GEOID          244 non-null    object \n",
      " 11  Geo_NAME           244 non-null    object \n",
      " 12  SE_A20001_001      244 non-null    int64  \n",
      " 13  SE_A20001_002      244 non-null    int64  \n",
      " 14  SE_A20001_003      244 non-null    int64  \n",
      " 15  SE_A20001_004      244 non-null    int64  \n",
      " 16  SE_A20001_005      244 non-null    int64  \n",
      " 17  PCT_SE_A20001_002  240 non-null    float64\n",
      " 18  PCT_SE_A20001_003  240 non-null    float64\n",
      " 19  PCT_SE_A20001_004  240 non-null    float64\n",
      " 20  PCT_SE_A20001_005  240 non-null    float64\n",
      " 21  SE_A20002_002      244 non-null    int64  \n",
      " 22  SE_A20002_003      244 non-null    int64  \n",
      " 23  SE_A20002_004      244 non-null    int64  \n",
      " 24  SE_A20002_005      244 non-null    int64  \n",
      " 25  SE_A20002_006      244 non-null    int64  \n",
      " 26  SE_A20002_007      244 non-null    int64  \n",
      " 27  SE_A20002_008      244 non-null    int64  \n",
      " 28  SE_A20002_009      244 non-null    int64  \n",
      " 29  SE_A20002_010      244 non-null    int64  \n",
      " 30  SE_A20002_011      244 non-null    int64  \n",
      " 31  SE_A20002_012      244 non-null    int64  \n",
      " 32  SE_A20002_013      244 non-null    int64  \n",
      " 33  SE_A20002_014      244 non-null    int64  \n",
      " 34  SE_A20002_015      244 non-null    int64  \n",
      " 35  SE_A20002_016      244 non-null    int64  \n",
      " 36  SE_A20002_017      244 non-null    int64  \n",
      " 37  SE_A20002_018      244 non-null    int64  \n",
      " 38  SE_A20002_019      244 non-null    int64  \n",
      " 39  SE_A20002_020      244 non-null    int64  \n",
      " 40  SE_A20002_021      244 non-null    int64  \n",
      " 41  SE_A20002_022      244 non-null    int64  \n",
      " 42  SE_A20002_023      244 non-null    int64  \n",
      " 43  SE_A20002_024      244 non-null    int64  \n",
      " 44  SE_A20002_025      244 non-null    int64  \n",
      " 45  SE_A20002_026      244 non-null    int64  \n",
      " 46  PCT_SE_A20002_003  236 non-null    float64\n",
      " 47  PCT_SE_A20002_004  236 non-null    float64\n",
      " 48  PCT_SE_A20002_005  236 non-null    float64\n",
      " 49  PCT_SE_A20002_006  236 non-null    float64\n",
      " 50  PCT_SE_A20002_008  235 non-null    float64\n",
      " 51  PCT_SE_A20002_009  235 non-null    float64\n",
      " 52  PCT_SE_A20002_010  235 non-null    float64\n",
      " 53  PCT_SE_A20002_011  235 non-null    float64\n",
      " 54  PCT_SE_A20002_013  239 non-null    float64\n",
      " 55  PCT_SE_A20002_014  239 non-null    float64\n",
      " 56  PCT_SE_A20002_015  239 non-null    float64\n",
      " 57  PCT_SE_A20002_016  239 non-null    float64\n",
      " 58  PCT_SE_A20002_018  239 non-null    float64\n",
      " 59  PCT_SE_A20002_019  239 non-null    float64\n",
      " 60  PCT_SE_A20002_020  239 non-null    float64\n",
      " 61  PCT_SE_A20002_021  239 non-null    float64\n",
      " 62  PCT_SE_A20002_023  238 non-null    float64\n",
      " 63  PCT_SE_A20002_024  238 non-null    float64\n",
      " 64  PCT_SE_A20002_025  238 non-null    float64\n",
      " 65  PCT_SE_A20002_026  238 non-null    float64\n",
      "dtypes: float64(24), int64(34), object(8)\n",
      "memory usage: 125.9+ KB\n"
     ]
    }
   ],
   "source": [
    "df.info()"
   ]
  },
  {
   "cell_type": "markdown",
   "id": "5ab2fd6d-f754-4124-9eb0-ba0e787cf7ab",
   "metadata": {},
   "source": [
    "By running the info command we can see that rows 66-108 were dropped because they did not have data associated with them. \n",
    "\n",
    "Now I will go ahead and identify which columns I want to keep. For this data set, I am keeping information on the total number of people, how many have health insurance, how many do not, and if it is private or public insurance. "
   ]
  },
  {
   "cell_type": "code",
   "execution_count": 27,
   "id": "143f0f4e-3d2f-4aa5-8060-69a594ea99bd",
   "metadata": {},
   "outputs": [],
   "source": [
    "columns_to_keep = ['Geo_FIPS',\n",
    "                   'SE_A20001_001', \n",
    "                   'SE_A20001_002',\n",
    "                   'SE_A20001_003',\n",
    "                   'SE_A20001_004',\n",
    "                   'SE_A20001_005',]\n",
    "df2 = df[columns_to_keep]"
   ]
  },
  {
   "cell_type": "code",
   "execution_count": 28,
   "id": "09ded434-cb6c-4b60-bdd6-c950ef06a7a8",
   "metadata": {},
   "outputs": [],
   "source": [
    "df2.columns = ['FIPS',\n",
    "               'Total',\n",
    "               'No Health Insurance Coverage',\n",
    "               'With Health Insurance Coverage',\n",
    "                   'Public Health Coverage',\n",
    "                   'Private Health Insurance']       "
   ]
  },
  {
   "cell_type": "code",
   "execution_count": 29,
   "id": "c671df61-f741-458a-a45c-73286a44b570",
   "metadata": {},
   "outputs": [
    {
     "data": {
      "text/html": [
       "<div>\n",
       "<style scoped>\n",
       "    .dataframe tbody tr th:only-of-type {\n",
       "        vertical-align: middle;\n",
       "    }\n",
       "\n",
       "    .dataframe tbody tr th {\n",
       "        vertical-align: top;\n",
       "    }\n",
       "\n",
       "    .dataframe thead th {\n",
       "        text-align: right;\n",
       "    }\n",
       "</style>\n",
       "<table border=\"1\" class=\"dataframe\">\n",
       "  <thead>\n",
       "    <tr style=\"text-align: right;\">\n",
       "      <th></th>\n",
       "      <th>FIPS</th>\n",
       "      <th>Total</th>\n",
       "      <th>No Health Insurance Coverage</th>\n",
       "      <th>With Health Insurance Coverage</th>\n",
       "      <th>Public Health Coverage</th>\n",
       "      <th>Private Health Insurance</th>\n",
       "    </tr>\n",
       "  </thead>\n",
       "  <tbody>\n",
       "    <tr>\n",
       "      <th>56</th>\n",
       "      <td>06075015201</td>\n",
       "      <td>1713</td>\n",
       "      <td>143</td>\n",
       "      <td>1570</td>\n",
       "      <td>575</td>\n",
       "      <td>1103</td>\n",
       "    </tr>\n",
       "    <tr>\n",
       "      <th>105</th>\n",
       "      <td>06075020801</td>\n",
       "      <td>3629</td>\n",
       "      <td>139</td>\n",
       "      <td>3490</td>\n",
       "      <td>1018</td>\n",
       "      <td>2666</td>\n",
       "    </tr>\n",
       "    <tr>\n",
       "      <th>216</th>\n",
       "      <td>06075060100</td>\n",
       "      <td>4231</td>\n",
       "      <td>74</td>\n",
       "      <td>4157</td>\n",
       "      <td>679</td>\n",
       "      <td>3614</td>\n",
       "    </tr>\n",
       "    <tr>\n",
       "      <th>149</th>\n",
       "      <td>06075026004</td>\n",
       "      <td>4107</td>\n",
       "      <td>167</td>\n",
       "      <td>3940</td>\n",
       "      <td>1482</td>\n",
       "      <td>2832</td>\n",
       "    </tr>\n",
       "    <tr>\n",
       "      <th>192</th>\n",
       "      <td>06075033204</td>\n",
       "      <td>4402</td>\n",
       "      <td>393</td>\n",
       "      <td>4009</td>\n",
       "      <td>1601</td>\n",
       "      <td>3032</td>\n",
       "    </tr>\n",
       "    <tr>\n",
       "      <th>219</th>\n",
       "      <td>06075060701</td>\n",
       "      <td>7621</td>\n",
       "      <td>248</td>\n",
       "      <td>7373</td>\n",
       "      <td>2067</td>\n",
       "      <td>5521</td>\n",
       "    </tr>\n",
       "  </tbody>\n",
       "</table>\n",
       "</div>"
      ],
      "text/plain": [
       "            FIPS  Total  No Health Insurance Coverage  \\\n",
       "56   06075015201   1713                           143   \n",
       "105  06075020801   3629                           139   \n",
       "216  06075060100   4231                            74   \n",
       "149  06075026004   4107                           167   \n",
       "192  06075033204   4402                           393   \n",
       "219  06075060701   7621                           248   \n",
       "\n",
       "     With Health Insurance Coverage  Public Health Coverage  \\\n",
       "56                             1570                     575   \n",
       "105                            3490                    1018   \n",
       "216                            4157                     679   \n",
       "149                            3940                    1482   \n",
       "192                            4009                    1601   \n",
       "219                            7373                    2067   \n",
       "\n",
       "     Private Health Insurance  \n",
       "56                       1103  \n",
       "105                      2666  \n",
       "216                      3614  \n",
       "149                      2832  \n",
       "192                      3032  \n",
       "219                      5521  "
      ]
     },
     "execution_count": 29,
     "metadata": {},
     "output_type": "execute_result"
    }
   ],
   "source": [
    "df2.sample(6)"
   ]
  },
  {
   "cell_type": "markdown",
   "id": "a16984aa-70f9-49b3-82cc-7a4d181658c0",
   "metadata": {},
   "source": [
    "Now we can see that for each census tract, the only columns left are how many people do not have health insurance, how many people do have health insurance and if they do, if it is private or public insurance."
   ]
  },
  {
   "cell_type": "markdown",
   "id": "1513d084-260d-4d27-837c-2d32370cfb30",
   "metadata": {},
   "source": [
    "## SAMPLE STATS & PLOTS ##"
   ]
  },
  {
   "cell_type": "markdown",
   "id": "ebcb5a5a-dcbe-4d54-8075-e89191ec8648",
   "metadata": {},
   "source": [
    "Now that the data has been cleaned and sorted, I will run some stats on the data set and make a few graphs."
   ]
  },
  {
   "cell_type": "code",
   "execution_count": 31,
   "id": "c106da17-4e2d-4b0b-b73c-fc1d987ddb6b",
   "metadata": {},
   "outputs": [
    {
     "data": {
      "text/plain": [
       "0    2118\n",
       "1    1783\n",
       "2    2499\n",
       "3    1891\n",
       "4    3996\n",
       "Name: Total, dtype: int64"
      ]
     },
     "execution_count": 31,
     "metadata": {},
     "output_type": "execute_result"
    }
   ],
   "source": [
    "# access a single column like df['col_name']\n",
    "df2['Total'].head()"
   ]
  },
  {
   "cell_type": "code",
   "execution_count": 35,
   "id": "d44336a9-cfa2-4208-96e3-9959d62b2a35",
   "metadata": {},
   "outputs": [
    {
     "data": {
      "text/plain": [
       "3404.934426229508"
      ]
     },
     "execution_count": 35,
     "metadata": {},
     "output_type": "execute_result"
    }
   ],
   "source": [
    "# What is the mean number of people with insurance?\n",
    "df2['With Health Insurance Coverage'].mean()"
   ]
  },
  {
   "cell_type": "code",
   "execution_count": 36,
   "id": "0c2e635b-08e0-43b3-8cbe-71d7ee558088",
   "metadata": {},
   "outputs": [
    {
     "data": {
      "text/plain": [
       "127.58196721311475"
      ]
     },
     "execution_count": 36,
     "metadata": {},
     "output_type": "execute_result"
    }
   ],
   "source": [
    "# What is the mean number of people without health insurance?\n",
    "df2['No Health Insurance Coverage'].mean()"
   ]
  },
  {
   "cell_type": "code",
   "execution_count": 38,
   "id": "2332f5b8-3643-4b80-bba3-560428fbd0a2",
   "metadata": {},
   "outputs": [
    {
     "data": {
      "text/plain": [
       "count     244.000000\n",
       "mean     3404.934426\n",
       "std      1391.206364\n",
       "min         0.000000\n",
       "25%      2455.000000\n",
       "50%      3472.000000\n",
       "75%      4262.500000\n",
       "max      7403.000000\n",
       "Name: With Health Insurance Coverage, dtype: float64"
      ]
     },
     "execution_count": 38,
     "metadata": {},
     "output_type": "execute_result"
    }
   ],
   "source": [
    "# get some stats\n",
    "df2['With Health Insurance Coverage'].describe()"
   ]
  },
  {
   "cell_type": "code",
   "execution_count": 39,
   "id": "dd28253f-ae8b-4c8a-bb8a-f88ec4350856",
   "metadata": {},
   "outputs": [
    {
     "data": {
      "text/plain": [
       "<AxesSubplot: ylabel='Frequency'>"
      ]
     },
     "execution_count": 39,
     "metadata": {},
     "output_type": "execute_result"
    },
    {
     "data": {
      "image/png": "[encoded data removed]",
      "text/plain": [
       "<Figure size 640x480 with 1 Axes>"
      ]
     },
     "metadata": {},
     "output_type": "display_data"
    }
   ],
   "source": [
    "# plot it as a historgram with 50 bins\n",
    "df2['No Health Insurance Coverage'].plot.hist(bins=50)"
   ]
  },
  {
   "cell_type": "code",
   "execution_count": 42,
   "id": "87b45a5a-3cc2-4a54-b6b4-44b85a122a04",
   "metadata": {},
   "outputs": [
    {
     "data": {
      "text/plain": [
       "<AxesSubplot: >"
      ]
     },
     "execution_count": 42,
     "metadata": {},
     "output_type": "execute_result"
    },
    {
     "data": {
      "image/png": "[encoded data removed]",
      "text/plain": [
       "<Figure size 640x480 with 1 Axes>"
      ]
     },
     "metadata": {},
     "output_type": "display_data"
    }
   ],
   "source": [
    "df2.boxplot(column=['No Health Insurance Coverage'])"
   ]
  },
  {
   "cell_type": "code",
   "execution_count": 44,
   "id": "ffa4bf2a-a421-41d0-8db4-1eaf3d45b59b",
   "metadata": {},
   "outputs": [
    {
     "data": {
      "text/plain": [
       "<AxesSubplot: xlabel='With Health Insurance Coverage', ylabel='Public Health Coverage'>"
      ]
     },
     "execution_count": 44,
     "metadata": {},
     "output_type": "execute_result"
    },
    {
     "data": {
      "image/png": "[encoded data removed]",
      "text/plain": [
       "<Figure size 640x480 with 1 Axes>"
      ]
     },
     "metadata": {},
     "output_type": "display_data"
    }
   ],
   "source": [
    "df2.plot.scatter(x='With Health Insurance Coverage',y='Public Health Coverage')"
   ]
  },
  {
   "cell_type": "markdown",
   "id": "e6682b5e-a3ab-479a-a233-3f3d2dfeb5cd",
   "metadata": {},
   "source": [
    "## SORTING DATA ## \n",
    "I am now going to look for which census tracts have the highest number of insured individuals and which have the highest number of uninsured individuals."
   ]
  },
  {
   "cell_type": "code",
   "execution_count": 45,
   "id": "7eacb394-c863-443a-84c7-44b28151a01a",
   "metadata": {},
   "outputs": [],
   "source": [
    "df_sorted = df2.sort_values(by='With Health Insurance Coverage',ascending = False)"
   ]
  },
  {
   "cell_type": "code",
   "execution_count": 46,
   "id": "54264b54-1921-4b97-97ec-5ab9868da2aa",
   "metadata": {},
   "outputs": [
    {
     "data": {
      "text/html": [
       "<div>\n",
       "<style scoped>\n",
       "    .dataframe tbody tr th:only-of-type {\n",
       "        vertical-align: middle;\n",
       "    }\n",
       "\n",
       "    .dataframe tbody tr th {\n",
       "        vertical-align: top;\n",
       "    }\n",
       "\n",
       "    .dataframe thead th {\n",
       "        text-align: right;\n",
       "    }\n",
       "</style>\n",
       "<table border=\"1\" class=\"dataframe\">\n",
       "  <thead>\n",
       "    <tr style=\"text-align: right;\">\n",
       "      <th></th>\n",
       "      <th>FIPS</th>\n",
       "      <th>With Health Insurance Coverage</th>\n",
       "    </tr>\n",
       "  </thead>\n",
       "  <tbody>\n",
       "    <tr>\n",
       "      <th>197</th>\n",
       "      <td>06075035300</td>\n",
       "      <td>7403</td>\n",
       "    </tr>\n",
       "    <tr>\n",
       "      <th>219</th>\n",
       "      <td>06075060701</td>\n",
       "      <td>7373</td>\n",
       "    </tr>\n",
       "    <tr>\n",
       "      <th>198</th>\n",
       "      <td>06075035400</td>\n",
       "      <td>7333</td>\n",
       "    </tr>\n",
       "    <tr>\n",
       "      <th>169</th>\n",
       "      <td>06075030700</td>\n",
       "      <td>6909</td>\n",
       "    </tr>\n",
       "    <tr>\n",
       "      <th>150</th>\n",
       "      <td>06075026100</td>\n",
       "      <td>6906</td>\n",
       "    </tr>\n",
       "    <tr>\n",
       "      <th>182</th>\n",
       "      <td>06075032700</td>\n",
       "      <td>6808</td>\n",
       "    </tr>\n",
       "    <tr>\n",
       "      <th>171</th>\n",
       "      <td>06075030900</td>\n",
       "      <td>6690</td>\n",
       "    </tr>\n",
       "    <tr>\n",
       "      <th>174</th>\n",
       "      <td>06075031201</td>\n",
       "      <td>6192</td>\n",
       "    </tr>\n",
       "    <tr>\n",
       "      <th>173</th>\n",
       "      <td>06075031100</td>\n",
       "      <td>6178</td>\n",
       "    </tr>\n",
       "    <tr>\n",
       "      <th>146</th>\n",
       "      <td>06075026001</td>\n",
       "      <td>6051</td>\n",
       "    </tr>\n",
       "  </tbody>\n",
       "</table>\n",
       "</div>"
      ],
      "text/plain": [
       "            FIPS  With Health Insurance Coverage\n",
       "197  06075035300                            7403\n",
       "219  06075060701                            7373\n",
       "198  06075035400                            7333\n",
       "169  06075030700                            6909\n",
       "150  06075026100                            6906\n",
       "182  06075032700                            6808\n",
       "171  06075030900                            6690\n",
       "174  06075031201                            6192\n",
       "173  06075031100                            6178\n",
       "146  06075026001                            6051"
      ]
     },
     "execution_count": 46,
     "metadata": {},
     "output_type": "execute_result"
    }
   ],
   "source": [
    "df_sorted[['FIPS','With Health Insurance Coverage']].head(10)"
   ]
  },
  {
   "cell_type": "code",
   "execution_count": 47,
   "id": "0c2d9e60-ba2b-4d80-a24b-3be9fcb3ebd5",
   "metadata": {},
   "outputs": [
    {
     "data": {
      "text/plain": [
       "<AxesSubplot: xlabel='FIPS'>"
      ]
     },
     "execution_count": 47,
     "metadata": {},
     "output_type": "execute_result"
    },
    {
     "data": {
      "image/png": "[encoded data removed]",
      "text/plain": [
       "<Figure size 640x480 with 1 Axes>"
      ]
     },
     "metadata": {},
     "output_type": "display_data"
    }
   ],
   "source": [
    "df_sorted.head(10).plot.bar(x='FIPS',\n",
    "                            y='With Health Insurance Coverage')"
   ]
  },
  {
   "cell_type": "code",
   "execution_count": 48,
   "id": "29dde565-1180-4fb5-8fb0-0f5573fae00c",
   "metadata": {},
   "outputs": [],
   "source": [
    "df_sorted = df2.sort_values(by='No Health Insurance Coverage',ascending = False)"
   ]
  },
  {
   "cell_type": "code",
   "execution_count": 49,
   "id": "2e2580e2-da9c-4c39-a0b1-71fea05c019d",
   "metadata": {},
   "outputs": [
    {
     "data": {
      "text/html": [
       "<div>\n",
       "<style scoped>\n",
       "    .dataframe tbody tr th:only-of-type {\n",
       "        vertical-align: middle;\n",
       "    }\n",
       "\n",
       "    .dataframe tbody tr th {\n",
       "        vertical-align: top;\n",
       "    }\n",
       "\n",
       "    .dataframe thead th {\n",
       "        text-align: right;\n",
       "    }\n",
       "</style>\n",
       "<table border=\"1\" class=\"dataframe\">\n",
       "  <thead>\n",
       "    <tr style=\"text-align: right;\">\n",
       "      <th></th>\n",
       "      <th>FIPS</th>\n",
       "      <th>No Health Insurance Coverage</th>\n",
       "    </tr>\n",
       "  </thead>\n",
       "  <tbody>\n",
       "    <tr>\n",
       "      <th>150</th>\n",
       "      <td>06075026100</td>\n",
       "      <td>660</td>\n",
       "    </tr>\n",
       "    <tr>\n",
       "      <th>123</th>\n",
       "      <td>06075022901</td>\n",
       "      <td>616</td>\n",
       "    </tr>\n",
       "    <tr>\n",
       "      <th>91</th>\n",
       "      <td>06075017903</td>\n",
       "      <td>536</td>\n",
       "    </tr>\n",
       "    <tr>\n",
       "      <th>129</th>\n",
       "      <td>06075023103</td>\n",
       "      <td>510</td>\n",
       "    </tr>\n",
       "    <tr>\n",
       "      <th>122</th>\n",
       "      <td>06075022803</td>\n",
       "      <td>488</td>\n",
       "    </tr>\n",
       "    <tr>\n",
       "      <th>148</th>\n",
       "      <td>06075026003</td>\n",
       "      <td>475</td>\n",
       "    </tr>\n",
       "    <tr>\n",
       "      <th>36</th>\n",
       "      <td>06075012502</td>\n",
       "      <td>452</td>\n",
       "    </tr>\n",
       "    <tr>\n",
       "      <th>141</th>\n",
       "      <td>06075025600</td>\n",
       "      <td>447</td>\n",
       "    </tr>\n",
       "    <tr>\n",
       "      <th>198</th>\n",
       "      <td>06075035400</td>\n",
       "      <td>436</td>\n",
       "    </tr>\n",
       "    <tr>\n",
       "      <th>126</th>\n",
       "      <td>06075023001</td>\n",
       "      <td>426</td>\n",
       "    </tr>\n",
       "  </tbody>\n",
       "</table>\n",
       "</div>"
      ],
      "text/plain": [
       "            FIPS  No Health Insurance Coverage\n",
       "150  06075026100                           660\n",
       "123  06075022901                           616\n",
       "91   06075017903                           536\n",
       "129  06075023103                           510\n",
       "122  06075022803                           488\n",
       "148  06075026003                           475\n",
       "36   06075012502                           452\n",
       "141  06075025600                           447\n",
       "198  06075035400                           436\n",
       "126  06075023001                           426"
      ]
     },
     "execution_count": 49,
     "metadata": {},
     "output_type": "execute_result"
    }
   ],
   "source": [
    "df_sorted[['FIPS','No Health Insurance Coverage']].head(10)"
   ]
  },
  {
   "cell_type": "code",
   "execution_count": 51,
   "id": "6c2b791b-710b-49fb-a764-d8d1dc3e3a20",
   "metadata": {},
   "outputs": [
    {
     "data": {
      "text/plain": [
       "<AxesSubplot: xlabel='FIPS'>"
      ]
     },
     "execution_count": 51,
     "metadata": {},
     "output_type": "execute_result"
    },
    {
     "data": {
      "image/png": "[encoded data removed]",
      "text/plain": [
       "<Figure size 640x480 with 1 Axes>"
      ]
     },
     "metadata": {},
     "output_type": "display_data"
    }
   ],
   "source": [
    "df_sorted.head(10).plot.bar(x='FIPS',\n",
    "                            y='No Health Insurance Coverage')"
   ]
  },
  {
   "cell_type": "code",
   "execution_count": 52,
   "id": "58d46e5f-659c-437e-b571-24f5e02da295",
   "metadata": {},
   "outputs": [
    {
     "data": {
      "text/plain": [
       "<AxesSubplot: title={'center': 'Top 10 Census Tracts with Highest Number of Uninsured Individuals in San Francisco County, 2020'}, ylabel='FIPS'>"
      ]
     },
     "execution_count": 52,
     "metadata": {},
     "output_type": "execute_result"
    },
    {
     "data": {
      "image/png": "[encoded data removed]",
      "text/plain": [
       "<Figure size 640x480 with 1 Axes>"
      ]
     },
     "metadata": {},
     "output_type": "display_data"
    }
   ],
   "source": [
    "# Make it prettier with a title\n",
    "df_sorted.head(10).plot.barh(x='FIPS',\n",
    "                            y='No Health Insurance Coverage', \n",
    "                            title='Top 10 Census Tracts with Highest Number of Uninsured Individuals in San Francisco County, 2020',\n",
    "                            color='pink')"
   ]
  },
  {
   "cell_type": "markdown",
   "id": "6b1573f5-3af5-4112-991d-7b905c175388",
   "metadata": {},
   "source": [
    "## FILTERING & SUBSETTING DATA ##\n",
    "I am curious which census tracts have no people."
   ]
  },
  {
   "cell_type": "code",
   "execution_count": 58,
   "id": "75c5d214-b492-417b-8138-62b69a4caec5",
   "metadata": {},
   "outputs": [
    {
     "data": {
      "text/html": [
       "<div>\n",
       "<style scoped>\n",
       "    .dataframe tbody tr th:only-of-type {\n",
       "        vertical-align: middle;\n",
       "    }\n",
       "\n",
       "    .dataframe tbody tr th {\n",
       "        vertical-align: top;\n",
       "    }\n",
       "\n",
       "    .dataframe thead th {\n",
       "        text-align: right;\n",
       "    }\n",
       "</style>\n",
       "<table border=\"1\" class=\"dataframe\">\n",
       "  <thead>\n",
       "    <tr style=\"text-align: right;\">\n",
       "      <th></th>\n",
       "      <th>FIPS</th>\n",
       "      <th>Total</th>\n",
       "      <th>No Health Insurance Coverage</th>\n",
       "      <th>With Health Insurance Coverage</th>\n",
       "      <th>Public Health Coverage</th>\n",
       "      <th>Private Health Insurance</th>\n",
       "    </tr>\n",
       "  </thead>\n",
       "  <tbody>\n",
       "    <tr>\n",
       "      <th>236</th>\n",
       "      <td>06075980200</td>\n",
       "      <td>0</td>\n",
       "      <td>0</td>\n",
       "      <td>0</td>\n",
       "      <td>0</td>\n",
       "      <td>0</td>\n",
       "    </tr>\n",
       "    <tr>\n",
       "      <th>238</th>\n",
       "      <td>06075980401</td>\n",
       "      <td>0</td>\n",
       "      <td>0</td>\n",
       "      <td>0</td>\n",
       "      <td>0</td>\n",
       "      <td>0</td>\n",
       "    </tr>\n",
       "    <tr>\n",
       "      <th>242</th>\n",
       "      <td>06075990100</td>\n",
       "      <td>0</td>\n",
       "      <td>0</td>\n",
       "      <td>0</td>\n",
       "      <td>0</td>\n",
       "      <td>0</td>\n",
       "    </tr>\n",
       "    <tr>\n",
       "      <th>243</th>\n",
       "      <td>06075990200</td>\n",
       "      <td>0</td>\n",
       "      <td>0</td>\n",
       "      <td>0</td>\n",
       "      <td>0</td>\n",
       "      <td>0</td>\n",
       "    </tr>\n",
       "  </tbody>\n",
       "</table>\n",
       "</div>"
      ],
      "text/plain": [
       "            FIPS  Total  No Health Insurance Coverage  \\\n",
       "236  06075980200      0                             0   \n",
       "238  06075980401      0                             0   \n",
       "242  06075990100      0                             0   \n",
       "243  06075990200      0                             0   \n",
       "\n",
       "     With Health Insurance Coverage  Public Health Coverage  \\\n",
       "236                               0                       0   \n",
       "238                               0                       0   \n",
       "242                               0                       0   \n",
       "243                               0                       0   \n",
       "\n",
       "     Private Health Insurance  \n",
       "236                         0  \n",
       "238                         0  \n",
       "242                         0  \n",
       "243                         0  "
      ]
     },
     "execution_count": 58,
     "metadata": {},
     "output_type": "execute_result"
    }
   ],
   "source": [
    "df2[df2['Total']== 0]"
   ]
  },
  {
   "cell_type": "code",
   "execution_count": 63,
   "id": "8c504699-395d-4f20-9223-0bfc21c6dde9",
   "metadata": {},
   "outputs": [
    {
     "data": {
      "text/html": [
       "<div>\n",
       "<style scoped>\n",
       "    .dataframe tbody tr th:only-of-type {\n",
       "        vertical-align: middle;\n",
       "    }\n",
       "\n",
       "    .dataframe tbody tr th {\n",
       "        vertical-align: top;\n",
       "    }\n",
       "\n",
       "    .dataframe thead th {\n",
       "        text-align: right;\n",
       "    }\n",
       "</style>\n",
       "<table border=\"1\" class=\"dataframe\">\n",
       "  <thead>\n",
       "    <tr style=\"text-align: right;\">\n",
       "      <th></th>\n",
       "      <th>FIPS</th>\n",
       "      <th>Total</th>\n",
       "      <th>No Health Insurance Coverage</th>\n",
       "      <th>With Health Insurance Coverage</th>\n",
       "      <th>Public Health Coverage</th>\n",
       "      <th>Private Health Insurance</th>\n",
       "    </tr>\n",
       "  </thead>\n",
       "  <tbody>\n",
       "    <tr>\n",
       "      <th>129</th>\n",
       "      <td>06075023103</td>\n",
       "      <td>4064</td>\n",
       "      <td>510</td>\n",
       "      <td>3554</td>\n",
       "      <td>2670</td>\n",
       "      <td>1144</td>\n",
       "    </tr>\n",
       "  </tbody>\n",
       "</table>\n",
       "</div>"
      ],
      "text/plain": [
       "            FIPS  Total  No Health Insurance Coverage  \\\n",
       "129  06075023103   4064                           510   \n",
       "\n",
       "     With Health Insurance Coverage  Public Health Coverage  \\\n",
       "129                            3554                    2670   \n",
       "\n",
       "     Private Health Insurance  \n",
       "129                      1144  "
      ]
     },
     "execution_count": 63,
     "metadata": {},
     "output_type": "execute_result"
    }
   ],
   "source": [
    "df2[df2['No Health Insurance Coverage']== 510]"
   ]
  },
  {
   "cell_type": "markdown",
   "id": "e5e6d3ff-513a-4a25-a848-6b62012833ad",
   "metadata": {},
   "source": [
    "I want to figure out how to see which census tracts have over a certain percentage of insurance people vs. not insured. "
   ]
  },
  {
   "cell_type": "markdown",
   "id": "900cd763-df7e-4b2e-a27a-d2280b092c1e",
   "metadata": {},
   "source": [
    "## MAPPING! ##"
   ]
  },
  {
   "cell_type": "code",
   "execution_count": 66,
   "id": "0a18379a-cdb1-4c3e-b0e6-e212a71b8224",
   "metadata": {},
   "outputs": [],
   "source": [
    "import geopandas as gpd"
   ]
  },
  {
   "cell_type": "code",
   "execution_count": 67,
   "id": "da4565b4-ce3b-444b-9775-13cf2739d7bc",
   "metadata": {},
   "outputs": [],
   "source": [
    "# read in a geojson file downloaded from Open Data SF\n",
    "tracts=gpd.read_file('week03 data/Census 2020_ Tracts for San Francisco.geojson')"
   ]
  },
  {
   "cell_type": "code",
   "execution_count": 70,
   "id": "e14ecd26-c7c1-469a-8218-6135eb2cf34f",
   "metadata": {},
   "outputs": [
    {
     "data": {
      "text/plain": [
       "<bound method DataFrame.info of         name      intptlon    awater  mtfcc      aland              namelsad  \\\n",
       "0    9805.01  -122.4193463    9769.0  G5020  1471536.0  Census Tract 9805.01   \n",
       "1     171.02  -122.4504754       0.0  G5020   294894.0   Census Tract 171.02   \n",
       "2     123.02  -122.4120970       0.0  G5020    92653.0   Census Tract 123.02   \n",
       "3     168.01  -122.4290133       0.0  G5020   226534.0   Census Tract 168.01   \n",
       "4     119.02  -122.4098067       0.0  G5020    93053.0   Census Tract 119.02   \n",
       "..       ...           ...       ...    ...        ...                   ...   \n",
       "239   202.01  -122.4240946       0.0  G5020   140617.0   Census Tract 202.01   \n",
       "240   615.08  -122.3863814  152297.0  G5020   227943.0   Census Tract 615.08   \n",
       "241   130.01  -122.4272277       0.0  G5020   181456.0   Census Tract 130.01   \n",
       "242   102.01  -122.4212147       0.0  G5020   186873.0   Census Tract 102.01   \n",
       "243   111.01  -122.4192656       0.0  G5020   121412.0   Census Tract 111.01   \n",
       "\n",
       "    tractce statefp data_loaded_at     intptlat funcstat countyfp data_as_of  \\\n",
       "0    980501      06     2022-03-04  +37.7162081        S      075 2021-02-01   \n",
       "1    017102      06     2022-03-04  +37.7654353        S      075 2021-02-01   \n",
       "2    012302      06     2022-03-04  +37.7870222        S      075 2021-02-01   \n",
       "3    016801      06     2022-03-04  +37.7713309        S      075 2021-02-01   \n",
       "4    011902      06     2022-03-04  +37.7909959        S      075 2021-02-01   \n",
       "..      ...     ...            ...          ...      ...      ...        ...   \n",
       "239  020201      06     2022-03-04  +37.7647879        S      075 2021-02-01   \n",
       "240  061508      06     2022-03-04  +37.7857520        S      075 2021-02-01   \n",
       "241  013001      06     2022-03-04  +37.7976627        S      075 2021-02-01   \n",
       "242  010201      06     2022-03-04  +37.8013029        S      075 2021-02-01   \n",
       "243  011101      06     2022-03-04  +37.7916822        S      075 2021-02-01   \n",
       "\n",
       "           geoid                                           geometry  \n",
       "0    06075980501  MULTIPOLYGON (((-122.42722 37.71555, -122.4271...  \n",
       "1    06075017102  MULTIPOLYGON (((-122.45321 37.76825, -122.4516...  \n",
       "2    06075012302  MULTIPOLYGON (((-122.41500 37.78745, -122.4133...  \n",
       "3    06075016801  MULTIPOLYGON (((-122.43235 37.77378, -122.4308...  \n",
       "4    06075011902  MULTIPOLYGON (((-122.41246 37.79163, -122.4117...  \n",
       "..           ...                                                ...  \n",
       "239  06075020201  MULTIPOLYGON (((-122.42646 37.76627, -122.4252...  \n",
       "240  06075061508  MULTIPOLYGON (((-122.39362 37.78308, -122.3928...  \n",
       "241  06075013001  MULTIPOLYGON (((-122.43075 37.79865, -122.4291...  \n",
       "242  06075010201  MULTIPOLYGON (((-122.42484 37.80227, -122.4246...  \n",
       "243  06075011101  MULTIPOLYGON (((-122.42280 37.79216, -122.4225...  \n",
       "\n",
       "[244 rows x 15 columns]>"
      ]
     },
     "execution_count": 70,
     "metadata": {},
     "output_type": "execute_result"
    }
   ],
   "source": [
    "tracts.info"
   ]
  },
  {
   "cell_type": "code",
   "execution_count": 71,
   "id": "fe972bf4-68ec-4fb4-bea1-d71931ae7e70",
   "metadata": {},
   "outputs": [
    {
     "data": {
      "text/html": [
       "<div>\n",
       "<style scoped>\n",
       "    .dataframe tbody tr th:only-of-type {\n",
       "        vertical-align: middle;\n",
       "    }\n",
       "\n",
       "    .dataframe tbody tr th {\n",
       "        vertical-align: top;\n",
       "    }\n",
       "\n",
       "    .dataframe thead th {\n",
       "        text-align: right;\n",
       "    }\n",
       "</style>\n",
       "<table border=\"1\" class=\"dataframe\">\n",
       "  <thead>\n",
       "    <tr style=\"text-align: right;\">\n",
       "      <th></th>\n",
       "      <th>name</th>\n",
       "      <th>intptlon</th>\n",
       "      <th>awater</th>\n",
       "      <th>mtfcc</th>\n",
       "      <th>aland</th>\n",
       "      <th>namelsad</th>\n",
       "      <th>tractce</th>\n",
       "      <th>statefp</th>\n",
       "      <th>data_loaded_at</th>\n",
       "      <th>intptlat</th>\n",
       "      <th>funcstat</th>\n",
       "      <th>countyfp</th>\n",
       "      <th>data_as_of</th>\n",
       "      <th>geoid</th>\n",
       "      <th>geometry</th>\n",
       "    </tr>\n",
       "  </thead>\n",
       "  <tbody>\n",
       "    <tr>\n",
       "      <th>0</th>\n",
       "      <td>9805.01</td>\n",
       "      <td>-122.4193463</td>\n",
       "      <td>9769.0</td>\n",
       "      <td>G5020</td>\n",
       "      <td>1471536.0</td>\n",
       "      <td>Census Tract 9805.01</td>\n",
       "      <td>980501</td>\n",
       "      <td>06</td>\n",
       "      <td>2022-03-04</td>\n",
       "      <td>+37.7162081</td>\n",
       "      <td>S</td>\n",
       "      <td>075</td>\n",
       "      <td>2021-02-01</td>\n",
       "      <td>06075980501</td>\n",
       "      <td>MULTIPOLYGON (((-122.42722 37.71555, -122.4271...</td>\n",
       "    </tr>\n",
       "    <tr>\n",
       "      <th>1</th>\n",
       "      <td>171.02</td>\n",
       "      <td>-122.4504754</td>\n",
       "      <td>0.0</td>\n",
       "      <td>G5020</td>\n",
       "      <td>294894.0</td>\n",
       "      <td>Census Tract 171.02</td>\n",
       "      <td>017102</td>\n",
       "      <td>06</td>\n",
       "      <td>2022-03-04</td>\n",
       "      <td>+37.7654353</td>\n",
       "      <td>S</td>\n",
       "      <td>075</td>\n",
       "      <td>2021-02-01</td>\n",
       "      <td>06075017102</td>\n",
       "      <td>MULTIPOLYGON (((-122.45321 37.76825, -122.4516...</td>\n",
       "    </tr>\n",
       "    <tr>\n",
       "      <th>2</th>\n",
       "      <td>123.02</td>\n",
       "      <td>-122.4120970</td>\n",
       "      <td>0.0</td>\n",
       "      <td>G5020</td>\n",
       "      <td>92653.0</td>\n",
       "      <td>Census Tract 123.02</td>\n",
       "      <td>012302</td>\n",
       "      <td>06</td>\n",
       "      <td>2022-03-04</td>\n",
       "      <td>+37.7870222</td>\n",
       "      <td>S</td>\n",
       "      <td>075</td>\n",
       "      <td>2021-02-01</td>\n",
       "      <td>06075012302</td>\n",
       "      <td>MULTIPOLYGON (((-122.41500 37.78745, -122.4133...</td>\n",
       "    </tr>\n",
       "    <tr>\n",
       "      <th>3</th>\n",
       "      <td>168.01</td>\n",
       "      <td>-122.4290133</td>\n",
       "      <td>0.0</td>\n",
       "      <td>G5020</td>\n",
       "      <td>226534.0</td>\n",
       "      <td>Census Tract 168.01</td>\n",
       "      <td>016801</td>\n",
       "      <td>06</td>\n",
       "      <td>2022-03-04</td>\n",
       "      <td>+37.7713309</td>\n",
       "      <td>S</td>\n",
       "      <td>075</td>\n",
       "      <td>2021-02-01</td>\n",
       "      <td>06075016801</td>\n",
       "      <td>MULTIPOLYGON (((-122.43235 37.77378, -122.4308...</td>\n",
       "    </tr>\n",
       "    <tr>\n",
       "      <th>4</th>\n",
       "      <td>119.02</td>\n",
       "      <td>-122.4098067</td>\n",
       "      <td>0.0</td>\n",
       "      <td>G5020</td>\n",
       "      <td>93053.0</td>\n",
       "      <td>Census Tract 119.02</td>\n",
       "      <td>011902</td>\n",
       "      <td>06</td>\n",
       "      <td>2022-03-04</td>\n",
       "      <td>+37.7909959</td>\n",
       "      <td>S</td>\n",
       "      <td>075</td>\n",
       "      <td>2021-02-01</td>\n",
       "      <td>06075011902</td>\n",
       "      <td>MULTIPOLYGON (((-122.41246 37.79163, -122.4117...</td>\n",
       "    </tr>\n",
       "  </tbody>\n",
       "</table>\n",
       "</div>"
      ],
      "text/plain": [
       "      name      intptlon  awater  mtfcc      aland              namelsad  \\\n",
       "0  9805.01  -122.4193463  9769.0  G5020  1471536.0  Census Tract 9805.01   \n",
       "1   171.02  -122.4504754     0.0  G5020   294894.0   Census Tract 171.02   \n",
       "2   123.02  -122.4120970     0.0  G5020    92653.0   Census Tract 123.02   \n",
       "3   168.01  -122.4290133     0.0  G5020   226534.0   Census Tract 168.01   \n",
       "4   119.02  -122.4098067     0.0  G5020    93053.0   Census Tract 119.02   \n",
       "\n",
       "  tractce statefp data_loaded_at     intptlat funcstat countyfp data_as_of  \\\n",
       "0  980501      06     2022-03-04  +37.7162081        S      075 2021-02-01   \n",
       "1  017102      06     2022-03-04  +37.7654353        S      075 2021-02-01   \n",
       "2  012302      06     2022-03-04  +37.7870222        S      075 2021-02-01   \n",
       "3  016801      06     2022-03-04  +37.7713309        S      075 2021-02-01   \n",
       "4  011902      06     2022-03-04  +37.7909959        S      075 2021-02-01   \n",
       "\n",
       "         geoid                                           geometry  \n",
       "0  06075980501  MULTIPOLYGON (((-122.42722 37.71555, -122.4271...  \n",
       "1  06075017102  MULTIPOLYGON (((-122.45321 37.76825, -122.4516...  \n",
       "2  06075012302  MULTIPOLYGON (((-122.41500 37.78745, -122.4133...  \n",
       "3  06075016801  MULTIPOLYGON (((-122.43235 37.77378, -122.4308...  \n",
       "4  06075011902  MULTIPOLYGON (((-122.41246 37.79163, -122.4117...  "
      ]
     },
     "execution_count": 71,
     "metadata": {},
     "output_type": "execute_result"
    }
   ],
   "source": [
    "tracts.head()"
   ]
  },
  {
   "cell_type": "code",
   "execution_count": 107,
   "id": "38b07d3a-54d6-4407-9026-89242b5adafc",
   "metadata": {},
   "outputs": [
    {
     "ename": "AttributeError",
     "evalue": "'list' object has no attribute 'plot'",
     "output_type": "error",
     "traceback": [
      "\u001b[0;31m---------------------------------------------------------------------------\u001b[0m",
      "\u001b[0;31mAttributeError\u001b[0m                            Traceback (most recent call last)",
      "Cell \u001b[0;32mIn[107], line 2\u001b[0m\n\u001b[1;32m      1\u001b[0m \u001b[38;5;66;03m# plot it!\u001b[39;00m\n\u001b[0;32m----> 2\u001b[0m \u001b[43mtracts\u001b[49m\u001b[38;5;241;43m.\u001b[39;49m\u001b[43mplot\u001b[49m(figsize\u001b[38;5;241m=\u001b[39m(\u001b[38;5;241m12\u001b[39m,\u001b[38;5;241m10\u001b[39m))\n",
      "\u001b[0;31mAttributeError\u001b[0m: 'list' object has no attribute 'plot'"
     ]
    }
   ],
   "source": [
    "# plot it!\n",
    "tracts.plot(figsize=(12,10))"
   ]
  },
  {
   "cell_type": "code",
   "execution_count": 106,
   "id": "212c0791-af0f-4417-ac94-d5f736fed8f3",
   "metadata": {},
   "outputs": [
    {
     "ename": "AttributeError",
     "evalue": "'list' object has no attribute 'info'",
     "output_type": "error",
     "traceback": [
      "\u001b[0;31m---------------------------------------------------------------------------\u001b[0m",
      "\u001b[0;31mAttributeError\u001b[0m                            Traceback (most recent call last)",
      "Cell \u001b[0;32mIn[106], line 2\u001b[0m\n\u001b[1;32m      1\u001b[0m \u001b[38;5;66;03m# tell me more about this dataset\u001b[39;00m\n\u001b[0;32m----> 2\u001b[0m \u001b[43mtracts\u001b[49m\u001b[38;5;241;43m.\u001b[39;49m\u001b[43minfo\u001b[49m(verbose\u001b[38;5;241m=\u001b[39m\u001b[38;5;28;01mTrue\u001b[39;00m, show_counts\u001b[38;5;241m=\u001b[39m\u001b[38;5;28;01mTrue\u001b[39;00m)\n",
      "\u001b[0;31mAttributeError\u001b[0m: 'list' object has no attribute 'info'"
     ]
    }
   ],
   "source": [
    "# tell me more about this dataset\n",
    "tracts.info(verbose=True, show_counts=True)"
   ]
  },
  {
   "cell_type": "code",
   "execution_count": 104,
   "id": "a50145fd-8045-41ef-bb90-d49be0e9ee0c",
   "metadata": {},
   "outputs": [
    {
     "ename": "TypeError",
     "evalue": "list indices must be integers or slices, not list",
     "output_type": "error",
     "traceback": [
      "\u001b[0;31m---------------------------------------------------------------------------\u001b[0m",
      "\u001b[0;31mTypeError\u001b[0m                                 Traceback (most recent call last)",
      "Cell \u001b[0;32mIn[104], line 2\u001b[0m\n\u001b[1;32m      1\u001b[0m \u001b[38;5;66;03m# we only really need FIPS and geometry, so let's subset the data\u001b[39;00m\n\u001b[0;32m----> 2\u001b[0m tracts \u001b[38;5;241m=\u001b[39m \u001b[43mtracts\u001b[49m\u001b[43m[\u001b[49m\u001b[43m[\u001b[49m\u001b[38;5;124;43m'\u001b[39;49m\u001b[38;5;124;43mFIPS\u001b[39;49m\u001b[38;5;124;43m'\u001b[39;49m\u001b[43m,\u001b[49m\u001b[38;5;124;43m'\u001b[39;49m\u001b[38;5;124;43mgeometry\u001b[39;49m\u001b[38;5;124;43m'\u001b[39;49m\u001b[43m]\u001b[49m\u001b[43m]\u001b[49m\n",
      "\u001b[0;31mTypeError\u001b[0m: list indices must be integers or slices, not list"
     ]
    }
   ],
   "source": [
    "# we only really need FIPS and geometry, so let's subset the data\n",
    "tracts = tracts[['FIPS','geometry']]"
   ]
  },
  {
   "cell_type": "code",
   "execution_count": 102,
   "id": "bbe44938-b861-413e-819f-fc281ce7bae3",
   "metadata": {},
   "outputs": [
    {
     "ename": "AttributeError",
     "evalue": "'list' object has no attribute 'head'",
     "output_type": "error",
     "traceback": [
      "\u001b[0;31m---------------------------------------------------------------------------\u001b[0m",
      "\u001b[0;31mAttributeError\u001b[0m                            Traceback (most recent call last)",
      "Cell \u001b[0;32mIn[102], line 1\u001b[0m\n\u001b[0;32m----> 1\u001b[0m \u001b[43mtracts\u001b[49m\u001b[38;5;241;43m.\u001b[39;49m\u001b[43mhead\u001b[49m()\n",
      "\u001b[0;31mAttributeError\u001b[0m: 'list' object has no attribute 'head'"
     ]
    }
   ],
   "source": []
  },
  {
   "cell_type": "code",
   "execution_count": null,
   "id": "c1827088-e061-43a5-8f46-51f5cf9f049a",
   "metadata": {},
   "outputs": [],
   "source": []
  }
 ],
 "metadata": {
  "kernelspec": {
   "display_name": "Python 3 (ipykernel)",
   "language": "python",
   "name": "python3"
  },
  "language_info": {
   "codemirror_mode": {
    "name": "ipython",
    "version": 3
   },
   "file_extension": ".py",
   "mimetype": "text/x-python",
   "name": "python",
   "nbconvert_exporter": "python",
   "pygments_lexer": "ipython3",
   "version": "3.10.8"
  }
 },
 "nbformat": 4,
 "nbformat_minor": 5
}
