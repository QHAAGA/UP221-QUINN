{
 "cells": [
  {
   "cell_type": "markdown",
   "id": "510e65df-52fd-4d9b-aa31-05b98af12a27",
   "metadata": {},
   "source": [
    "## COVID-19 Data in San Francisco Neighborhoods ##\n",
    "### Quinn Haaga; Code & Cry ###\n",
    "\n",
    "This week, I am looking at COVID-19 case data broken down by neighborhood in San Francisco. Since COVID-19 is sensitive public health data, it is difficult to find it broken down by census tract since census tracts can be very small. \n",
    "\n",
    "I am going to attempt to reconcile and merge the SF zip code data with the 2020 SF Census Tracts."
   ]
  },
  {
   "cell_type": "code",
   "execution_count": 1,
   "id": "63b3938d-848c-40e3-95f1-83e0023f9635",
   "metadata": {},
   "outputs": [],
   "source": [
    "# import geopandas and pandas\n",
    "\n",
    "import pandas as pd\n",
    "import geopandas as gpd"
   ]
  },
  {
   "cell_type": "code",
   "execution_count": 6,
   "id": "ef33a9a9-93cf-41c4-bdc5-0f8d1f8d2f9c",
   "metadata": {},
   "outputs": [],
   "source": [
    "# to give more power to my figures (plots)\n",
    "import matplotlib.pyplot as plt\n",
    "\n",
    "import contextily as ctx"
   ]
  },
  {
   "cell_type": "code",
   "execution_count": 31,
   "id": "20334b09-1887-466d-867d-ca134d9d7809",
   "metadata": {},
   "outputs": [],
   "source": [
    "# import the data and create it as a new variable\n",
    "df = pd.read_csv('week04 data/COVID-19 Census Data.csv')"
   ]
  },
  {
   "cell_type": "code",
   "execution_count": 32,
   "id": "b04a22a6-804d-405c-8db9-f2c0c9e2843c",
   "metadata": {},
   "outputs": [
    {
     "name": "stdout",
     "output_type": "stream",
     "text": [
      "<class 'pandas.core.frame.DataFrame'>\n",
      "RangeIndex: 241 entries, 0 to 240\n",
      "Data columns (total 8 columns):\n",
      " #   Column              Non-Null Count  Dtype  \n",
      "---  ------              --------------  -----  \n",
      " 0   area_type           241 non-null    object \n",
      " 1   id                  241 non-null    int64  \n",
      " 2   acs_population      241 non-null    int64  \n",
      " 3   count               241 non-null    int64  \n",
      " 4   count_last_60_days  241 non-null    int64  \n",
      " 5   rate                241 non-null    float64\n",
      " 6   deaths              241 non-null    int64  \n",
      " 7   multipolygon        241 non-null    object \n",
      "dtypes: float64(1), int64(5), object(2)\n",
      "memory usage: 15.2+ KB\n"
     ]
    }
   ],
   "source": [
    "df.info()"
   ]
  },
  {
   "cell_type": "code",
   "execution_count": 33,
   "id": "2427c11a-9775-46f5-b38e-09450ee34d93",
   "metadata": {},
   "outputs": [
    {
     "data": {
      "text/plain": [
       "58     6075015300\n",
       "205    6075045100\n",
       "189    6075033100\n",
       "60     6075015402\n",
       "100    6075020500\n",
       "225    6075061200\n",
       "111    6075021300\n",
       "211    6075047801\n",
       "132    6075023400\n",
       "228    6075061501\n",
       "196    6075035202\n",
       "240    6075980900\n",
       "134    6075025200\n",
       "17     6075011102\n",
       "188    6075033002\n",
       "209    6075047701\n",
       "29     6075012204\n",
       "235    6075061508\n",
       "198    6075035400\n",
       "119    6075022704\n",
       "Name: id, dtype: int64"
      ]
     },
     "execution_count": 33,
     "metadata": {},
     "output_type": "execute_result"
    }
   ],
   "source": [
    "df['id'].sample(20)"
   ]
  },
  {
   "cell_type": "code",
   "execution_count": 39,
   "id": "e721c54a-022b-4554-8eb5-c84fd17e2a21",
   "metadata": {
    "tags": []
   },
   "outputs": [],
   "source": [
    "# add leading zeros because I can see this column does not have them\n",
    "df = pd.read_csv(\n",
    "    'week04 data/COVID-19 Census Data.csv',\n",
    "    dtype=\n",
    "    {\n",
    "        'id':str,\n",
    "    }\n",
    ")"
   ]
  },
  {
   "cell_type": "code",
   "execution_count": 40,
   "id": "de8e7d33-bbdd-430a-97b0-314958eaa9f8",
   "metadata": {},
   "outputs": [
    {
     "data": {
      "text/plain": [
       "<bound method NDFrame.head of         area_type          id  acs_population  count  count_last_60_days  \\\n",
       "0    Census Tract  6075010101            2045    360                  13   \n",
       "1    Census Tract  6075010102            1920    374                  15   \n",
       "2    Census Tract  6075010201            2331    384                  10   \n",
       "3    Census Tract  6075010202            1984    352                   6   \n",
       "4    Census Tract  6075010300            4282    657                  16   \n",
       "..            ...         ...             ...    ...                 ...   \n",
       "236  Census Tract  6075980200             185   1009                 104   \n",
       "237  Census Tract  6075980300              32     10                   0   \n",
       "238  Census Tract  6075980501             153     17                   2   \n",
       "239  Census Tract  6075980600             747    362                  18   \n",
       "240  Census Tract  6075980900             242    245                   7   \n",
       "\n",
       "             rate  deaths                                       multipolygon  \n",
       "0     1760.391198       3  MULTIPOLYGON (((-122.4210759996576 37.81288900...  \n",
       "1     1947.916667       0  MULTIPOLYGON (((-122.41688799988128 37.8052120...  \n",
       "2     1647.361647       3  MULTIPOLYGON (((-122.42483500033495 37.8022680...  \n",
       "3     1774.193548       2  MULTIPOLYGON (((-122.42684799963547 37.8090189...  \n",
       "4     1534.329752       2  MULTIPOLYGON (((-122.41871799973586 37.8059320...  \n",
       "..            ...     ...                                                ...  \n",
       "236  54540.540540       0  MULTIPOLYGON (((-122.5106360000513 37.78212300...  \n",
       "237   3125.000000       0  MULTIPOLYGON (((-122.51725599956467 37.7706839...  \n",
       "238   1111.111111       1  MULTIPOLYGON (((-122.42722299984155 37.7155489...  \n",
       "239   4846.050870       1  MULTIPOLYGON (((-122.38693599999635 37.7242449...  \n",
       "240  10123.966940       1  MULTIPOLYGON (((-122.40711399971127 37.7390600...  \n",
       "\n",
       "[241 rows x 8 columns]>"
      ]
     },
     "execution_count": 40,
     "metadata": {},
     "output_type": "execute_result"
    }
   ],
   "source": [
    "df.head"
   ]
  },
  {
   "cell_type": "code",
   "execution_count": 38,
   "id": "1ba04ea8-d767-4ead-89a0-13020943d9b7",
   "metadata": {},
   "outputs": [
    {
     "data": {
      "text/plain": [
       "28     Census Tract\n",
       "39     Census Tract\n",
       "96     Census Tract\n",
       "181    Census Tract\n",
       "182    Census Tract\n",
       "Name: area_type, dtype: object"
      ]
     },
     "execution_count": 38,
     "metadata": {},
     "output_type": "execute_result"
    }
   ],
   "source": [
    "df['area_type'].sample(5)"
   ]
  },
  {
   "cell_type": "code",
   "execution_count": null,
   "id": "2980d67d-5c68-435e-8857-54077f486bbc",
   "metadata": {},
   "outputs": [],
   "source": []
  }
 ],
 "metadata": {
  "kernelspec": {
   "display_name": "Python 3 (ipykernel)",
   "language": "python",
   "name": "python3"
  },
  "language_info": {
   "codemirror_mode": {
    "name": "ipython",
    "version": 3
   },
   "file_extension": ".py",
   "mimetype": "text/x-python",
   "name": "python",
   "nbconvert_exporter": "python",
   "pygments_lexer": "ipython3",
   "version": "3.10.8"
  }
 },
 "nbformat": 4,
 "nbformat_minor": 5
}
